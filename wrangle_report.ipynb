{
 "cells": [
  {
   "cell_type": "markdown",
   "metadata": {},
   "source": [
    "# Wrangle_report"
   ]
  },
  {
   "cell_type": "markdown",
   "metadata": {},
   "source": [
    "To analyze the tweets from we rate dogs, i have gathered three different dataset. The first dataset is twitter archive enhnced which was provided by Udacity. I downloaded the file manually. The second dataset is API data. We get this data from twitter API after setting developer account and after the approval by twitter. As i had issues in setting the developers account and did not receive any approval from twitter, I had to get ths data from Udacity. The third dataset is image prediction which i downloaded programmatically via request library.\n",
    "\n",
    "Then all the three gathered data was imported in pandas dataframe. I found several issues in data like datatypes not in correct format, incorrect dog names, four variable chould be in one column.\n",
    "\n",
    "First i created a column dog stages from four variables and drop the four column. Then i merge api data and image prediction table  with twitter archive enchanced table using tweet id.\n",
    "\n",
    "The timestamp and retweet timestamp has datatype in object format were converted in panndas datetime. I found may dogs name incorrect like \"a\", \"an\", \"the\", \"such\" was replacee by \"None\". The html tag from the source column was removed so that it can be easier to read. I also removed the retweets and expanded urls without images.\n",
    "\n",
    "Then the master dataframe that contain all three dataframes was stored and saved in a master dataframe in csv format.\n",
    "here again the timestamp datatypes was converted into pandas datetime format and the dog stage which has the datatypes in object was converted into category.\n",
    "\n",
    "Finally i created different plots like distribution of retweets count and favorite counts and the relationship between them."
   ]
  },
  {
   "cell_type": "code",
   "execution_count": null,
   "metadata": {},
   "outputs": [],
   "source": []
  }
 ],
 "metadata": {
  "kernelspec": {
   "display_name": "Python 3",
   "language": "python",
   "name": "python3"
  },
  "language_info": {
   "codemirror_mode": {
    "name": "ipython",
    "version": 3
   },
   "file_extension": ".py",
   "mimetype": "text/x-python",
   "name": "python",
   "nbconvert_exporter": "python",
   "pygments_lexer": "ipython3",
   "version": "3.6.3"
  }
 },
 "nbformat": 4,
 "nbformat_minor": 2
}
